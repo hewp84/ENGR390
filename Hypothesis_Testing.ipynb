{
  "nbformat": 4,
  "nbformat_minor": 0,
  "metadata": {
    "colab": {
      "provenance": [],
      "authorship_tag": "ABX9TyMRMrD6FLKsfEzHaZqBqSYw",
      "include_colab_link": true
    },
    "kernelspec": {
      "name": "python3",
      "display_name": "Python 3"
    },
    "language_info": {
      "name": "python"
    }
  },
  "cells": [
    {
      "cell_type": "markdown",
      "metadata": {
        "id": "view-in-github",
        "colab_type": "text"
      },
      "source": [
        "<a href=\"https://colab.research.google.com/github/hewp84/ENGR390/blob/main/Hypothesis_Testing.ipynb\" target=\"_parent\"><img src=\"https://colab.research.google.com/assets/colab-badge.svg\" alt=\"Open In Colab\"/></a>"
      ]
    },
    {
      "cell_type": "markdown",
      "source": [
        "# Hypothesis Testing\n",
        "\n",
        "Hypothesis testing is a statistical method used to make inferences about a population parameter (e.g., population mean, proportion) based on sample data. The goal is to determine whether the sample data provides enough evidence to reject or fail to reject a null hypothesis (H0) in favor of an alternative hypothesis (Ha).\n",
        "\n",
        "### Normal Data\n",
        "\n",
        "When dealing with normal data, we typically use the z-test or the one-sample z-test if the population standard deviation is known, or the one-sample t-test if the population standard deviation is unknown."
      ],
      "metadata": {
        "id": "xauVA2T78ipQ"
      }
    },
    {
      "cell_type": "markdown",
      "source": [
        "**Example 1: One-Sample z-test**\n",
        "\n",
        "Suppose we want to test if the mean height of a population is different from a claimed value (e.g., 68 inches). We collect a random sample of 50 individuals and calculate the sample mean height as 67.5 inches, with a known population standard deviation of 3 inches. Significance level: 95%"
      ],
      "metadata": {
        "id": "08oiuFc887qA"
      }
    },
    {
      "cell_type": "code",
      "execution_count": null,
      "metadata": {
        "id": "XdPZvO7b7eUH"
      },
      "outputs": [],
      "source": [
        "import numpy as np\n",
        "from scipy.stats import norm\n",
        "\n",
        "# Given\n",
        "sample_mean = 67.5\n",
        "population_mean = 68\n",
        "population_std = 3\n",
        "sample_size = 50\n",
        "alpha = 0.05\n",
        "\n",
        "# Null Hypothesis:\n",
        "# Alternative Hypothesis:\n",
        "\n",
        "# Left, Right, or Two-tailed test?\n",
        "\n",
        "# Calculate the z-score\n",
        "z_score = (sample_mean - population_mean) / (population_std / np.sqrt(sample_size))\n",
        "\n",
        "# Calculate the p-value\n",
        "#Uncomment the type of test you want to perform\n",
        "\n",
        "#p_value = norm.cdf(z_score)  # For a left-tailed test\n",
        "#p_value = 1 - norm.cdf(z_score)  # For a right-tailed test\n",
        "p_value = 2 * (1 - norm.cdf(abs(z_score))) #For a two tailed test\n",
        "\n",
        "# Print the results\n",
        "if p_value < alpha:\n",
        "  print(f\"Reject Null Hypothesis, given that  p-value: {p_value:.4f} < {alpha:.4f}\")\n",
        "else:\n",
        "  print(f\"Fail to reject null hypothesis, given that  p-value is not: {p_value:.4f} < {alpha:.4f}\")\n",
        "\n"
      ]
    },
    {
      "cell_type": "markdown",
      "source": [
        "**Exercise 1**\n",
        "\n",
        "ETS, the company that administers the SAT exam, reports that the mean SAT mathematics score is 519. But some people think that this score overestimates the ability of typical high school seniors because only those who plan to attend college take the SAT. To check if this is true, a test was given to a SRS of 500 seniors from California. These students had an average score of xbar = 504. Is this enough evidence to say that the mean for all California seniors is lower than 519? Use a level of significance equal to α = 0.05. (Assume that σ = 100)."
      ],
      "metadata": {
        "id": "IHLb4Ww9Bg76"
      }
    },
    {
      "cell_type": "code",
      "source": [
        "#Try it yourself\n"
      ],
      "metadata": {
        "id": "iL2x_tgFCvVh"
      },
      "execution_count": null,
      "outputs": []
    },
    {
      "cell_type": "markdown",
      "source": [
        "### Data Using t-test\n",
        "\n",
        "When the population standard deviation is unknown, we use the t-test, which relies on the t-distribution instead of the normal distribution."
      ],
      "metadata": {
        "id": "bJ3XwFOrBVlz"
      }
    },
    {
      "cell_type": "markdown",
      "source": [
        "**Example 2.**\n",
        "\n",
        "Suppose we want to test the effectiveness of a new drug on blood pressure. We have two groups: a control group (no drug) and an experimental group (with the new drug). We measure the blood pressure of individuals in both groups and want to determine if there is a significant difference between the two groups. Confidence level: 95%"
      ],
      "metadata": {
        "id": "zYrYoUE0Bd3c"
      }
    },
    {
      "cell_type": "code",
      "source": [
        "import numpy as np\n",
        "from scipy.stats import ttest_ind\n",
        "alpha = 0.05\n",
        "\n",
        "# Control group data\n",
        "control_data = np.array([125, 132, 128, 119, 133, 126, 130, 124, 129, 121])\n",
        "\n",
        "# Experimental group data\n",
        "experimental_data = np.array([118, 120, 122, 125, 117, 123, 119, 121, 124, 120])\n",
        "\n",
        "# Null Hypothesis:\n",
        "# Alternative Hypothesis:\n",
        "\n",
        "# Left, Right, or Two-tailed test?\n",
        "\n",
        "# Perform the independent t-test\n",
        "\n",
        "#t_statistic, p_value = ttest_ind(experimental_data, control_data, alternative='less')  #Left-tailed test\n",
        "#t_statistic, p_value = ttest_ind(experimental_data, control_data, alternative='greater')  #Right-tailed test\n",
        "t_statistic, p_value = ttest_ind(experimental_data, control_data)   #Two-tailed test\n",
        "\n",
        "# Print the results\n",
        "print(\"Control group mean:\", np.mean(control_data))\n",
        "print(\"Experimental group mean:\", np.mean(experimental_data))\n",
        "print(f\"T-statistic: {t_statistic:.4f}\")\n",
        "print(f\"P-value: {p_value:.4f}\")\n",
        "\n",
        "# Print the results\n",
        "if p_value < alpha:\n",
        "  print(f\"Reject Null Hypothesis, given that  p-value: {p_value:.4f} < {alpha:.4f}\")\n",
        "else:\n",
        "  print(f\"Fail to reject null hypothesis, given that  p-value is not: {p_value:.4f} < {alpha:.4f}\")"
      ],
      "metadata": {
        "id": "8EyDEEkK9DR5"
      },
      "execution_count": null,
      "outputs": []
    },
    {
      "cell_type": "markdown",
      "source": [
        "**Exercise 2.**\n",
        "\n",
        "A university professor gave online lectures instead of face-to-face classes due to Covid-19. Later, he uploaded recorded lectures to the cloud for students who followed the course asynchronously (those who did not attend the lesson but later watched the records). However, he believes that the students who attend class at the class time and participate in the process are more successful. Therefore, he recorded the average grades of the students at the end of the semester. The data is below."
      ],
      "metadata": {
        "id": "54J-ER9cFvKN"
      }
    },
    {
      "cell_type": "code",
      "source": [
        "import numpy as np\n",
        "from scipy.stats import ttest_ind\n",
        "alpha = 0.05\n",
        "\n",
        "#Experimental data\n",
        "sync = np.array([94. , 84.9, 82.6, 69.5, 80.1, 79.6, 81.4, 77.8, 81.7, 78.8, 73.2,\n",
        "       87.9, 87.9, 93.5, 82.3, 79.3, 78.3, 71.6, 88.6, 74.6, 74.1, 80.6])\n",
        "\n",
        "#Control data\n",
        "asyncr =np.array([77.1, 71.7, 91. , 72.2, 74.8, 85.1, 67.6, 69.9, 75.3, 71.7, 65.7, 72.6, 71.5, 78.2])\n",
        "\n",
        "\n"
      ],
      "metadata": {
        "id": "rsG3I48rAvuy"
      },
      "execution_count": 10,
      "outputs": []
    },
    {
      "cell_type": "code",
      "source": [],
      "metadata": {
        "id": "wTffy7zSF8cQ"
      },
      "execution_count": null,
      "outputs": []
    }
  ]
}