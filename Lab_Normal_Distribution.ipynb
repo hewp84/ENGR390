{
  "nbformat": 4,
  "nbformat_minor": 0,
  "metadata": {
    "colab": {
      "provenance": [],
      "authorship_tag": "ABX9TyPVm7XG6SNmWCl/dKwhfRto",
      "include_colab_link": true
    },
    "kernelspec": {
      "name": "python3",
      "display_name": "Python 3"
    },
    "language_info": {
      "name": "python"
    }
  },
  "cells": [
    {
      "cell_type": "markdown",
      "metadata": {
        "id": "view-in-github",
        "colab_type": "text"
      },
      "source": [
        "<a href=\"https://colab.research.google.com/github/hewp84/ENGR390/blob/main/Lab_Normal_Distribution.ipynb\" target=\"_parent\"><img src=\"https://colab.research.google.com/assets/colab-badge.svg\" alt=\"Open In Colab\"/></a>"
      ]
    },
    {
      "cell_type": "markdown",
      "source": [
        "# ENGR 390 Lab Practice: Modeling data using Normal Distribution"
      ],
      "metadata": {
        "id": "1O9YrsyqSIan"
      }
    },
    {
      "cell_type": "markdown",
      "source": [
        "**Objective:**\n",
        "\n",
        "The objective of this lab practice is to introduce you to the concept of probability distributions, specifically continuous probability distributions. You will learn how to fit a probability distribution to a dataset and visualize it using Python in Google Colab environment.\n",
        "\n",
        "**Background:**\n",
        "\n",
        "In statistics, a probability distribution describes how the values of a random variable are distributed. Probability distributions can be classified into two main types: discrete and continuous. In this lab practice, we will focus on continuous probability distributions.\n",
        "\n",
        "A continuous probability distribution is characterized by a continuous random variable, which can take any value within a certain range. Examples of continuous probability distributions include the normal distribution, exponential distribution, and uniform distribution.\n",
        "\n",
        "**Normal Distribution:**\n",
        "The normal distribution, also known as the Gaussian distribution, is one of the most widely encountered probability distributions in statistics. It is characterized by a bell-shaped curve that is symmetric around the mean. The mean, median, and mode of a normal distribution are equal, and the distribution is defined by two parameters: the mean (μ) and the standard deviation (σ).\n",
        "\n",
        "![taken from wikipedia](https://upload.wikimedia.org/wikipedia/commons/thumb/7/74/Normal_Distribution_PDF.svg/1200px-Normal_Distribution_PDF.svg.png)"
      ],
      "metadata": {
        "id": "PXNkdka0TBDi"
      }
    },
    {
      "cell_type": "markdown",
      "source": [
        "## Procedure\n",
        "\n",
        "### Step 0: Import essential libraries"
      ],
      "metadata": {
        "id": "wlf766h4TipW"
      }
    },
    {
      "cell_type": "code",
      "execution_count": null,
      "metadata": {
        "id": "7A_TGX9BumFR"
      },
      "outputs": [],
      "source": [
        "#Importing Libraries\n",
        "import pandas as pd\n",
        "from scipy.stats import norm\n",
        "import matplotlib.pyplot as plt\n",
        "import numpy as np"
      ]
    },
    {
      "cell_type": "markdown",
      "source": [
        "### Step 1: Upload Dataset\n",
        "\n",
        "* Download or prepare a dataset in CSV format containing numerical data.\n",
        "* Upload the dataset to Google Colab using the file upload feature.\n",
        "\n"
      ],
      "metadata": {
        "id": "PqmRofytTwOl"
      }
    },
    {
      "cell_type": "code",
      "source": [
        "# Step 1: Upload CSV file and load data\n",
        "# Assuming your CSV file is named 'data.csv'\n",
        "from google.colab import files\n",
        "uploaded = files.upload()"
      ],
      "metadata": {
        "id": "qQA7k7zxvSiA"
      },
      "execution_count": null,
      "outputs": []
    },
    {
      "cell_type": "markdown",
      "source": [
        "### Step 2: Load and Explore the Dataset\n",
        "\n",
        "* Use the pandas library to load the dataset into a DataFrame.\n",
        "* Explore the dataset to understand its structure and characteristics."
      ],
      "metadata": {
        "id": "FNFL8a5rT99d"
      }
    },
    {
      "cell_type": "code",
      "source": [
        "# Step 2: Load the data\n",
        "data = pd.read_csv('bmi_data.csv') # Make sure you change the name of the file when using a different csv file\n",
        "data.head()"
      ],
      "metadata": {
        "id": "qbMFstY9vVjM"
      },
      "execution_count": null,
      "outputs": []
    },
    {
      "cell_type": "markdown",
      "source": [
        "### Step 3: Extract and filter the data to analyze\n",
        "\n",
        "* Choose the column you want to work and analyze\n",
        "* Filter your data, if needed, using boolean masks"
      ],
      "metadata": {
        "id": "o1ed9ycxUagV"
      }
    },
    {
      "cell_type": "code",
      "source": [
        "# Step 3: Extract the data from a column\n",
        "column_name = data.columns[4]  # Assign column number minus 1. If your selected column number is 4, assign: 3\n",
        "column_data = data[column_name]"
      ],
      "metadata": {
        "id": "YaMVR4rxwGj7"
      },
      "execution_count": null,
      "outputs": []
    },
    {
      "cell_type": "markdown",
      "source": [
        "Boolean masking:"
      ],
      "metadata": {
        "id": "lyOs2RcPVX6l"
      }
    },
    {
      "cell_type": "code",
      "source": [
        "#Step 3a (Optional): Filtering data using boolean masks\n",
        "\n",
        "# Define your boolean mask based on the values in the string column\n",
        "# For example, let's assume you have a column named 'category' and you want to filter rows where 'category' is 'high'\n",
        "boolean_mask = data['category'] == 'high'\n",
        "\n",
        "# Apply the boolean mask to filter the dataset\n",
        "filtered_data = data[boolean_mask]"
      ],
      "metadata": {
        "id": "qJGJF_tcVHlu"
      },
      "execution_count": null,
      "outputs": []
    },
    {
      "cell_type": "markdown",
      "source": [
        "### Step 4: Fit a Probability Distribution\n",
        "\n",
        "* Choose a column from the dataset to analyze.\n",
        "* Fit a probability distribution (e.g., normal distribution) to the selected data column using suitable statistical libraries."
      ],
      "metadata": {
        "id": "pePfO4LCVa2M"
      }
    },
    {
      "cell_type": "code",
      "source": [
        "# Step 4: Fit a probability distribution\n",
        "# For example, fitting a normal distribution\n",
        "mu, std = norm.fit(column_data)\n",
        "\n",
        "#You will be needing these variables for Step 6"
      ],
      "metadata": {
        "id": "mOsIz6e1wWvm"
      },
      "execution_count": null,
      "outputs": []
    },
    {
      "cell_type": "markdown",
      "source": [
        "Step 5: Visualize the Fitted Distribution\n",
        "\n",
        "* Generate points from the fitted distribution.\n",
        "* Plot the histogram of the data and the fitted distribution.\n",
        "* Make sure your data fits a normal distribution. Otherwise, pick a different distribution or change your variable to analyze."
      ],
      "metadata": {
        "id": "9nqD5H9zVwhV"
      }
    },
    {
      "cell_type": "code",
      "source": [
        "# Step 5: Generate points from the fitted distribution\n",
        "xmin = column_data.min()\n",
        "xmax = column_data.max()\n",
        "x = np.linspace(xmin, xmax, len(column_data))\n",
        "y = norm.pdf(x, mu, std)"
      ],
      "metadata": {
        "id": "5Y9kT050wY6V"
      },
      "execution_count": null,
      "outputs": []
    },
    {
      "cell_type": "code",
      "source": [
        "# Step 5a: Plot the data and the fitted distribution\n",
        "plt.hist(column_data, bins=20, density=True, alpha=0.6, color='g') # Plot histogram of data\n",
        "plt.plot(x, y, 'r', linewidth=2) # Plot fitted distribution\n",
        "plt.legend(['Fitted Distribution', 'r.v. X'])\n",
        "plt.xlabel('Name of the random variable X')\n",
        "plt.ylabel('Probability Density')\n",
        "plt.title('Fitted Probability Distribution')\n",
        "plt.show()\n",
        "\n",
        "# If the red curve is completely different from the green area, change distribution or random variable"
      ],
      "metadata": {
        "id": "O6NokcCswfjn"
      },
      "execution_count": null,
      "outputs": []
    },
    {
      "cell_type": "markdown",
      "source": [
        "Step 6: Interpretation and Analysis\n",
        "\n",
        "* Interpret the results of the fitted distribution.\n",
        "* Analyze the characteristics of the dataset and the fitted distribution.\n",
        "* Discuss any insights or observations derived from the analysis."
      ],
      "metadata": {
        "id": "rzK_fd07WKYc"
      }
    },
    {
      "cell_type": "markdown",
      "source": [
        "In this section, you craft your research questions and answer them using coding.\n",
        "\n",
        "\n",
        "### Example:\n",
        "\n",
        "**BMI introduction**\n",
        "\n",
        "BMI is a measurement of a person's leanness or corpulence based on their height and weight, and is intended to quantify tissue mass. It is widely used as a general indicator of whether a person has a healthy body weight for their height. Specifically, the value obtained from the calculation of BMI is used to categorize whether a person is underweight, normal weight, overweight, or obese depending on what range the value falls between. These ranges of BMI vary based on factors such as region and age, and are sometimes further divided into subcategories such as severely underweight or very severely obese. Being overweight or underweight can have significant health effects, so while BMI is an imperfect measure of healthy body weight, it is a useful indicator of whether any additional testing or action is required. Refer to the table below to see the different categories based on BMI that are used by the calculator.\n",
        "![from NCBI website](https://www.ncbi.nlm.nih.gov/books/NBK551660/bin/bmi__WHO.jpg)\n",
        "\n",
        "What is the probability of someone being found in the 'Obese class I' weight status?"
      ],
      "metadata": {
        "id": "FRI35zs6WxWE"
      }
    },
    {
      "cell_type": "code",
      "source": [
        "# Obese class I spans between 30 < X < 34.9\n",
        "\n",
        "# Recall mean and std calculated in Step 4\n",
        "# P(X<34.9)\n",
        "x1 = 34.9    #Change this value to the convenience of the research question\n",
        "p1 = norm.cdf(x1, mu, std)\n",
        "print(p1)\n",
        "\n",
        "# P(X<30)\n",
        "x2 = 30 #Change this value to the convenience of the research question\n",
        "p2 = norm.cdf(x2, mu, std)\n",
        "print(p2)\n",
        "\n",
        "# P(30 < X < 34.9)\n",
        "prob = p1 - p2\n",
        "print('P(30 < X < 34.9)= ',prob)"
      ],
      "metadata": {
        "id": "5DzlYubJwmv5"
      },
      "execution_count": null,
      "outputs": []
    },
    {
      "cell_type": "markdown",
      "source": [
        "Calculate the BMI interval that encompasses the lower 10% of the sample population based on the inverse normal distribution."
      ],
      "metadata": {
        "id": "ywjxbACpiHCQ"
      }
    },
    {
      "cell_type": "code",
      "source": [
        "# Now performing inverse operation using normal distribution.\n",
        "# We have the probability and we are looking for the X value.\n",
        "\n",
        "prob_1 = 0.10 #Change this value to the convenience of the research question\n",
        "x_1 = norm.ppf(prob_1, mu, std)\n",
        "\n",
        "print(\"BMI interval such that the probability is\", prob_1, \"is between 0 and \", x_1)"
      ],
      "metadata": {
        "id": "O2ZvvEfIhqz_"
      },
      "execution_count": null,
      "outputs": []
    },
    {
      "cell_type": "markdown",
      "source": [
        "Try it yourself: Come up with different questions and answer them recycling the code above."
      ],
      "metadata": {
        "id": "PNZ1ZVZfmjjf"
      }
    },
    {
      "cell_type": "code",
      "source": [
        "#Write your code below:\n"
      ],
      "metadata": {
        "id": "SSpaXdHQmqQ_"
      },
      "execution_count": null,
      "outputs": []
    }
  ]
}