{
  "cells": [
    {
      "cell_type": "markdown",
      "metadata": {
        "id": "view-in-github",
        "colab_type": "text"
      },
      "source": [
        "<a href=\"https://colab.research.google.com/github/hewp84/ENGR390/blob/main/Lab_Normal_Distribution.ipynb\" target=\"_parent\"><img src=\"https://colab.research.google.com/assets/colab-badge.svg\" alt=\"Open In Colab\"/></a>"
      ]
    },
    {
      "cell_type": "markdown",
      "metadata": {
        "id": "1O9YrsyqSIan"
      },
      "source": [
        "# ENGR 390 Lab Practice: Normal Distribution and Correlation"
      ]
    },
    {
      "cell_type": "markdown",
      "metadata": {
        "id": "PXNkdka0TBDi"
      },
      "source": [
        "**Objective:**\n",
        "\n",
        "The objective of this lab practice is to introduce you to the computation and data display of probability distributions, specifically continuous probability distributions and correlation. You will learn how to fit a probability distribution to a dataset and visualize it using Python in Google Colab environment.\n",
        "\n",
        "**Background:**\n",
        "\n",
        "In statistics, a probability distribution describes how the values of a random variable are distributed. Probability distributions can be classified into two main types: discrete and continuous. In this lab practice, we will focus on continuous probability distributions.\n",
        "\n",
        "A continuous probability distribution is characterized by a continuous random variable, which can take any value within a certain range. Examples of continuous probability distributions include the normal distribution, exponential distribution, and uniform distribution.\n",
        "\n",
        "**Normal Distribution:**\n",
        "The normal distribution, also known as the Gaussian distribution, is one of the most widely encountered probability distributions in statistics. It is characterized by a bell-shaped curve that is symmetric around the mean. The mean, median, and mode of a normal distribution are equal, and the distribution is defined by two parameters: the mean (μ) and the standard deviation (σ).\n",
        "\n",
        "![taken from wikipedia](https://upload.wikimedia.org/wikipedia/commons/thumb/7/74/Normal_Distribution_PDF.svg/1200px-Normal_Distribution_PDF.svg.png)"
      ]
    },
    {
      "cell_type": "markdown",
      "metadata": {
        "id": "wlf766h4TipW"
      },
      "source": [
        "## Part 1: Normal Distribution\n",
        "\n",
        "### Step 0: Import essential libraries"
      ]
    },
    {
      "cell_type": "code",
      "execution_count": null,
      "metadata": {
        "id": "7A_TGX9BumFR"
      },
      "outputs": [],
      "source": [
        "#Importing Libraries\n",
        "import pandas as pd\n",
        "from scipy.stats import norm\n",
        "import matplotlib.pyplot as plt\n",
        "import numpy as np"
      ]
    },
    {
      "cell_type": "markdown",
      "metadata": {
        "id": "PqmRofytTwOl"
      },
      "source": [
        "### Step 1: Upload Dataset\n",
        "\n",
        "* Download or prepare a dataset in CSV format containing numerical data.\n",
        "* Upload the dataset to Google Colab using the file upload feature.\n",
        "\n"
      ]
    },
    {
      "cell_type": "code",
      "execution_count": null,
      "metadata": {
        "id": "qQA7k7zxvSiA"
      },
      "outputs": [],
      "source": [
        "# Step 1: Upload CSV file and load data\n",
        "# Assuming your CSV file is named 'data.csv'\n",
        "from google.colab import files\n",
        "uploaded = files.upload()"
      ]
    },
    {
      "cell_type": "markdown",
      "metadata": {
        "id": "FNFL8a5rT99d"
      },
      "source": [
        "### Step 2: Load and Explore the Dataset\n",
        "\n",
        "* Use the pandas library to load the dataset into a DataFrame.\n",
        "* Explore the dataset to understand its structure and characteristics."
      ]
    },
    {
      "cell_type": "code",
      "execution_count": null,
      "metadata": {
        "id": "qbMFstY9vVjM"
      },
      "outputs": [],
      "source": [
        "# Step 2: Load the data\n",
        "data = pd.read_csv('bmi_data.csv') # Make sure you change the name of the file when using a different csv file\n",
        "data.head()"
      ]
    },
    {
      "cell_type": "markdown",
      "metadata": {
        "id": "o1ed9ycxUagV"
      },
      "source": [
        "### Step 3: Extract and filter the data to analyze\n",
        "\n",
        "* Choose the column you want to work and analyze\n",
        "* Filter your data, if needed, using boolean masks"
      ]
    },
    {
      "cell_type": "code",
      "execution_count": null,
      "metadata": {
        "id": "YaMVR4rxwGj7"
      },
      "outputs": [],
      "source": [
        "# Step 3: Extract the data from a column\n",
        "column_name = data.columns[4]  # Assign column number minus 1. If your selected column number is 4, assign: 3\n",
        "column_data = data[column_name]"
      ]
    },
    {
      "cell_type": "markdown",
      "metadata": {
        "id": "lyOs2RcPVX6l"
      },
      "source": [
        "Boolean masking:"
      ]
    },
    {
      "cell_type": "code",
      "execution_count": null,
      "metadata": {
        "id": "qJGJF_tcVHlu"
      },
      "outputs": [],
      "source": [
        "#Step 3a (Optional): Filtering data using boolean masks\n",
        "\n",
        "# Define your boolean mask based on the values in the string column\n",
        "# For example, let's assume you have a column named 'category' and you want to filter rows where 'category' is 'high'\n",
        "boolean_mask = data['category'] == 'high'\n",
        "\n",
        "# Apply the boolean mask to filter the dataset\n",
        "filtered_data = data[boolean_mask]"
      ]
    },
    {
      "cell_type": "markdown",
      "metadata": {
        "id": "pePfO4LCVa2M"
      },
      "source": [
        "### Step 4: Fit a Probability Distribution\n",
        "\n",
        "* Choose a column from the dataset to analyze.\n",
        "* Fit a probability distribution (e.g., normal distribution) to the selected data column using suitable statistical libraries."
      ]
    },
    {
      "cell_type": "code",
      "execution_count": null,
      "metadata": {
        "id": "mOsIz6e1wWvm"
      },
      "outputs": [],
      "source": [
        "# Step 4: Fit a probability distribution\n",
        "# For example, fitting a normal distribution\n",
        "mu, std = norm.fit(column_data)\n",
        "\n",
        "#You will be needing these variables for Step 6"
      ]
    },
    {
      "cell_type": "markdown",
      "metadata": {
        "id": "9nqD5H9zVwhV"
      },
      "source": [
        "### Step 5: Visualize the Fitted Distribution\n",
        "\n",
        "* Generate points from the fitted distribution.\n",
        "* Plot the histogram of the data and the fitted distribution.\n",
        "* Make sure your data fits a normal distribution. Otherwise, pick a different distribution or change your variable to analyze."
      ]
    },
    {
      "cell_type": "code",
      "execution_count": null,
      "metadata": {
        "id": "5Y9kT050wY6V"
      },
      "outputs": [],
      "source": [
        "# Step 5: Generate points from the fitted distribution\n",
        "xmin = column_data.min()\n",
        "xmax = column_data.max()\n",
        "x = np.linspace(xmin, xmax, len(column_data))\n",
        "y = norm.pdf(x, mu, std)"
      ]
    },
    {
      "cell_type": "code",
      "execution_count": null,
      "metadata": {
        "id": "O6NokcCswfjn"
      },
      "outputs": [],
      "source": [
        "# Step 5a: Plot the data and the fitted distribution\n",
        "plt.hist(column_data, bins=20, density=True, alpha=0.6, color='g') # Plot histogram of data\n",
        "plt.plot(x, y, 'r', linewidth=2) # Plot fitted distribution\n",
        "plt.legend(['Fitted Distribution', 'r.v. X'])\n",
        "plt.xlabel('Name of the random variable X')\n",
        "plt.ylabel('Probability Density')\n",
        "plt.title('Fitted Probability Distribution')\n",
        "plt.show()\n",
        "\n",
        "# If the red curve is completely different from the green area, change distribution or random variable"
      ]
    },
    {
      "cell_type": "markdown",
      "metadata": {
        "id": "rzK_fd07WKYc"
      },
      "source": [
        "### Step 6: Interpretation and Analysis\n",
        "\n",
        "* Interpret the results of the fitted distribution.\n",
        "* Analyze the characteristics of the dataset and the fitted distribution.\n",
        "* Discuss any insights or observations derived from the analysis."
      ]
    },
    {
      "cell_type": "markdown",
      "metadata": {
        "id": "FRI35zs6WxWE"
      },
      "source": [
        "### In this section, you craft your research questions and answer them using coding.\n",
        "\n",
        "\n",
        "### Example:\n",
        "\n",
        "**BMI introduction**\n",
        "\n",
        "BMI is a measurement of a person's leanness or corpulence based on their height and weight, and is intended to quantify tissue mass. It is widely used as a general indicator of whether a person has a healthy body weight for their height. Specifically, the value obtained from the calculation of BMI is used to categorize whether a person is underweight, normal weight, overweight, or obese depending on what range the value falls between. These ranges of BMI vary based on factors such as region and age, and are sometimes further divided into subcategories such as severely underweight or very severely obese. Being overweight or underweight can have significant health effects, so while BMI is an imperfect measure of healthy body weight, it is a useful indicator of whether any additional testing or action is required. Refer to the table below to see the different categories based on BMI that are used by the calculator.\n",
        "![from NCBI website](https://www.ncbi.nlm.nih.gov/books/NBK551660/bin/bmi__WHO.jpg)\n",
        "\n",
        "What is the probability of someone being found in the 'Obese class I' weight status?"
      ]
    },
    {
      "cell_type": "code",
      "execution_count": null,
      "metadata": {
        "id": "5DzlYubJwmv5"
      },
      "outputs": [],
      "source": [
        "# Obese class I spans between 30 < X < 34.9\n",
        "\n",
        "# Recall mean and std calculated in Step 4\n",
        "# P(X<34.9)\n",
        "x1 = 34.9    #Change this value to the convenience of the research question\n",
        "p1 = norm.cdf(x1, mu, std)\n",
        "print(p1)\n",
        "\n",
        "# P(X<30)\n",
        "x2 = 30 #Change this value to the convenience of the research question\n",
        "p2 = norm.cdf(x2, mu, std)\n",
        "print(p2)\n",
        "\n",
        "# P(30 < X < 34.9)\n",
        "prob = p1 - p2\n",
        "print('P(30 < X < 34.9)= ',prob)"
      ]
    },
    {
      "cell_type": "markdown",
      "metadata": {
        "id": "ywjxbACpiHCQ"
      },
      "source": [
        "Calculate the BMI interval that encompasses the lower 10% of the sample population based on the inverse normal distribution."
      ]
    },
    {
      "cell_type": "code",
      "execution_count": null,
      "metadata": {
        "id": "O2ZvvEfIhqz_"
      },
      "outputs": [],
      "source": [
        "# Now performing inverse operation using normal distribution.\n",
        "# We have the probability and we are looking for the X value.\n",
        "\n",
        "prob_1 = 0.10 #Change this value to the convenience of the research question\n",
        "x_1 = norm.ppf(prob_1, mu, std)\n",
        "\n",
        "print(\"BMI interval such that the probability is\", prob_1, \"is between 0 and \", x_1)"
      ]
    },
    {
      "cell_type": "markdown",
      "metadata": {
        "id": "PNZ1ZVZfmjjf"
      },
      "source": [
        "## Part 2: Correlation between two variables\n",
        "\n",
        "In this section, we will explore the relationship between two variables using joint distributions and correlation. Correlation measures the degree to which two variables move in relation to each other. A positive correlation indicates that as one variable increases, the other tends to increase, while a negative correlation indicates that as one variable increases, the other tends to decrease."
      ]
    },
    {
      "cell_type": "markdown",
      "metadata": {
        "id": "svLQu5yB6UFy"
      },
      "source": [
        "We will use the seaborn library for visualizing joint distributions and the scipy.stats library for calculating correlation coefficients."
      ]
    },
    {
      "cell_type": "code",
      "execution_count": null,
      "metadata": {
        "id": "SSpaXdHQmqQ_"
      },
      "outputs": [],
      "source": [
        "# Step 1: Import additional libraries\n",
        "import seaborn as sns\n",
        "from scipy.stats import pearsonr\n"
      ]
    },
    {
      "cell_type": "markdown",
      "metadata": {
        "id": "NDlBVoke6UFz"
      },
      "source": [
        "Choose two numerical columns from your dataset to analyze their relationship."
      ]
    },
    {
      "cell_type": "code",
      "execution_count": null,
      "metadata": {
        "id": "5elyO9jO6UFz"
      },
      "outputs": [],
      "source": [
        "# Step 2: Select two variables for analysis\n",
        "# Assuming your dataset has columns 'height' and 'weight'\n",
        "variable1 = data['Height']\n",
        "variable2 = data['Weight']"
      ]
    },
    {
      "cell_type": "markdown",
      "metadata": {
        "id": "hvrDDzh_6UFz"
      },
      "source": [
        "We will use a scatter plot to visualize the joint distribution of the two variables."
      ]
    },
    {
      "cell_type": "code",
      "execution_count": null,
      "metadata": {
        "id": "96Tv3rpr6UFz"
      },
      "outputs": [],
      "source": [
        "# Step 3: Visualize the joint distribution\n",
        "sns.jointplot(x=variable1, y=variable2, kind='scatter', color='b')\n",
        "plt.xlabel('Height')\n",
        "plt.ylabel('Weight')\n",
        "plt.suptitle('Joint Distribution of Height and Weight')\n",
        "plt.show()"
      ]
    },
    {
      "cell_type": "markdown",
      "metadata": {
        "tags": [],
        "id": "nNTUq8x16UFz"
      },
      "source": [
        "### Calculate the Correlation Coefficient\n",
        "\n",
        "The Pearson correlation coefficient measures the linear relationship between two variables. It ranges from -1 to 1, where 1 indicates a perfect positive linear relationship, -1 indicates a perfect negative linear relationship, and 0 indicates no linear relationship."
      ]
    },
    {
      "cell_type": "code",
      "execution_count": null,
      "metadata": {
        "id": "GJdfbnOV6UF0"
      },
      "outputs": [],
      "source": [
        "# Step 4: Calculate the Pearson correlation coefficient\n",
        "correlation_coefficient, p_value = pearsonr(variable1, variable2)\n",
        "print(f\"Pearson Correlation Coefficient: {correlation_coefficient}\")\n"
      ]
    },
    {
      "cell_type": "markdown",
      "metadata": {
        "id": "pDduhJmR6UF0"
      },
      "source": [
        "## Part 3: Conduct your own Statistical Analysis\n",
        "\n",
        "In this section, you will choose your own dataset, test for normality in one variable, and analyze the correlation between two variables. Follow the steps below to complete the activity."
      ]
    },
    {
      "cell_type": "markdown",
      "metadata": {
        "id": "78MHBGdm6UF0"
      },
      "source": [
        "### Choose and Upload Your Dataset\n",
        "\n",
        "You will need to select a dataset of your choice (in CSV format) and upload it to Google Colab. The dataset should contain at least two numerical columns for analysis."
      ]
    },
    {
      "cell_type": "code",
      "execution_count": null,
      "metadata": {
        "id": "iFIu4Apv6UF0"
      },
      "outputs": [],
      "source": [
        "# Upload your dataset\n",
        "from google.colab import files\n",
        "uploaded = files.upload()\n",
        "\n",
        "# Load the dataset into a DataFrame\n",
        "import pandas as pd\n",
        "file_name = list(uploaded.keys())[0]  # Get the name of the uploaded file\n",
        "data = pd.read_csv(file_name)\n",
        "\n",
        "# Display the first few rows of the dataset\n",
        "data.head()"
      ]
    },
    {
      "cell_type": "markdown",
      "metadata": {
        "id": "6-iJ_8IT6UF0"
      },
      "source": [
        "### Test for Normality in a Variable\n",
        "\n",
        "Choose one numerical column from your dataset and test if it follows a normal distribution. We will use the Shapiro-Wilk test for normality."
      ]
    },
    {
      "cell_type": "code",
      "execution_count": null,
      "metadata": {
        "id": "aen9htck6UF0"
      },
      "outputs": [],
      "source": [
        "# Assign random variable to test normality\n",
        "column_name = data.columns[4]  # Assign column number minus 1. If your selected column number is 4, assign: 3\n",
        "column_data = data[column_name]\n",
        "\n",
        "mu, std = norm.fit(column_data)\n",
        "\n",
        "xmin = column_data.min()\n",
        "xmax = column_data.max()\n",
        "x = np.linspace(xmin, xmax, len(column_data))\n",
        "y = norm.pdf(x, mu, std)\n",
        "\n",
        "plt.hist(column_data, bins=20, density=True, alpha=0.6, color='g') # Plot histogram of data\n",
        "plt.plot(x, y, 'r', linewidth=2) # Plot fitted distribution\n",
        "plt.legend(['Fitted Distribution', 'r.v. X'])\n",
        "plt.xlabel('Name of the random variable X')\n",
        "plt.ylabel('Probability Density')\n",
        "plt.title('Fitted Probability Distribution')\n",
        "plt.show()\n",
        "\n",
        "# If the red curve is completely different from the green area, change distribution or random variable"
      ]
    },
    {
      "cell_type": "markdown",
      "metadata": {
        "id": "x_HYVKrH6UF0"
      },
      "source": [
        "### Analyze Correlation Between Two Variables\n",
        "\n",
        "Choose two numerical columns from your dataset and analyze their correlation using Pearson's correlation coefficient."
      ]
    },
    {
      "cell_type": "code",
      "execution_count": null,
      "metadata": {
        "id": "ntV5m-gU6UF0"
      },
      "outputs": [],
      "source": [
        "# Analyze correlation between two variables\n",
        "from scipy.stats import pearsonr\n",
        "\n",
        "# Choose two numerical columns for correlation analysis\n",
        "variable1_name = input(\"Enter the name of the first numerical column: \")\n",
        "variable2_name = input(\"Enter the name of the second numerical column: \")\n",
        "\n",
        "variable1 = data[variable1_name]\n",
        "variable2 = data[variable2_name]\n",
        "\n",
        "# Calculate the Pearson correlation coefficient\n",
        "correlation_coefficient, p_value = pearsonr(variable1, variable2)\n",
        "print(f\"Pearson Correlation Coefficient between '{variable1_name}' and '{variable2_name}': {correlation_coefficient}\")\n",
        "\n",
        "import seaborn as sns\n",
        "import matplotlib.pyplot as plt\n",
        "\n",
        "sns.jointplot(x=variable1, y=variable2, kind='scatter', color='b')\n",
        "plt.xlabel(variable1_name)\n",
        "plt.ylabel(variable2_name)\n",
        "plt.suptitle(f'Joint Distribution of {variable1_name} and {variable2_name}')\n",
        "plt.show()"
      ]
    },
    {
      "cell_type": "markdown",
      "metadata": {
        "id": "oX-hIVHA6UF1"
      },
      "source": [
        "## Part 4: Conclusion\n",
        "\n",
        "Analyze the correlation between the variables you tested. Discuss and conclude if these variables are correlated or not. State a hypothesis the explain the type of correlation between the variables.\n",
        "Also provide a conclusion about what you learned in this statistics lab."
      ]
    },
    {
      "cell_type": "code",
      "execution_count": null,
      "metadata": {
        "id": "kfiGa5km6UF5"
      },
      "outputs": [],
      "source": []
    }
  ],
  "metadata": {
    "colab": {
      "provenance": [],
      "include_colab_link": true
    },
    "kernelspec": {
      "display_name": "Python 3 (ipykernel)",
      "language": "python",
      "name": "python3"
    },
    "language_info": {
      "codemirror_mode": {
        "name": "ipython",
        "version": 3
      },
      "file_extension": ".py",
      "mimetype": "text/x-python",
      "name": "python",
      "nbconvert_exporter": "python",
      "pygments_lexer": "ipython3",
      "version": "3.11.4"
    }
  },
  "nbformat": 4,
  "nbformat_minor": 0
}