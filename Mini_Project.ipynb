{
  "nbformat": 4,
  "nbformat_minor": 0,
  "metadata": {
    "colab": {
      "provenance": [],
      "authorship_tag": "ABX9TyM+B+5ZkPNf7P8crS0LMZGE",
      "include_colab_link": true
    },
    "kernelspec": {
      "name": "python3",
      "display_name": "Python 3"
    },
    "language_info": {
      "name": "python"
    }
  },
  "cells": [
    {
      "cell_type": "markdown",
      "metadata": {
        "id": "view-in-github",
        "colab_type": "text"
      },
      "source": [
        "<a href=\"https://colab.research.google.com/github/hewp84/ENGR390/blob/main/Mini_Project.ipynb\" target=\"_parent\"><img src=\"https://colab.research.google.com/assets/colab-badge.svg\" alt=\"Open In Colab\"/></a>"
      ]
    },
    {
      "cell_type": "markdown",
      "source": [
        "# Project Name: Write the title of your project here.\n"
      ],
      "metadata": {
        "id": "dnu8MFyOHFi6"
      }
    },
    {
      "cell_type": "markdown",
      "source": [
        "## Experiment Design\n",
        "\n",
        "Describe everything regarding the experiment and its setup/design (data collection, number of samples). Describe the experimental and control data from the experiment here."
      ],
      "metadata": {
        "id": "5E5VoNVHHYp5"
      }
    },
    {
      "cell_type": "markdown",
      "source": [
        "## Research Question\n",
        "\n",
        "Write your research question here. Define your null and alternative hypothesis here. Define your confidence level here."
      ],
      "metadata": {
        "id": "uARJBJnmH2vI"
      }
    },
    {
      "cell_type": "markdown",
      "source": [
        "## Procedure.\n",
        "\n",
        "Outline the process of data collection here. In simple words, describe how were you able to get the data to analyze here."
      ],
      "metadata": {
        "id": "0n3k9BUWIllc"
      }
    },
    {
      "cell_type": "markdown",
      "source": [
        "## Results\n",
        "Run the code and interpret the results of the hypothesis test in the context of the research question."
      ],
      "metadata": {
        "id": "ahbpeMoZLo_i"
      }
    },
    {
      "cell_type": "code",
      "source": [
        "#Importing Libraries\n",
        "import pandas as pd\n",
        "from scipy.stats import norm\n",
        "import matplotlib.pyplot as plt\n",
        "import numpy as np\n",
        "import scipy.stats as stats\n",
        "from scipy.stats import ttest_ind\n"
      ],
      "metadata": {
        "id": "V2MMexK4IlSY"
      },
      "execution_count": 8,
      "outputs": []
    },
    {
      "cell_type": "code",
      "source": [
        "# Step 1: Upload CSV file and load data\n",
        "# Assuming your CSV file is named 'data.csv'\n",
        "from google.colab import files\n",
        "uploaded = files.upload()"
      ],
      "metadata": {
        "id": "Gf-uaoabI7xA"
      },
      "execution_count": null,
      "outputs": []
    },
    {
      "cell_type": "code",
      "execution_count": null,
      "metadata": {
        "id": "bEVxh2vpGyfx"
      },
      "outputs": [],
      "source": [
        "# Step 2: Load the data\n",
        "data = pd.read_csv('mydata.csv') # Make sure you change the name of the file when using a different csv file\n",
        "data.head()"
      ]
    },
    {
      "cell_type": "code",
      "source": [
        "# Step 3: Extract the data from a column\n",
        "experimental_name = data.columns[0]  # I am assuming experimental data is in the first column\n",
        "experimental_data = data[experimental_name]\n",
        "\n",
        "control_name = data.columns[1]  # I am assuming control data is in the second column\n",
        "control_data = data[control_name]"
      ],
      "metadata": {
        "id": "-U8E_LyjJDZC"
      },
      "execution_count": 4,
      "outputs": []
    },
    {
      "cell_type": "code",
      "source": [
        "\n",
        "\n",
        "# Step 4: Visualizing the histograms of the both data groups\n",
        "plt.figure(figsize=(10, 5))\n",
        "\n",
        "plt.subplot(1, 2, 1)\n",
        "plt.hist(experimental_data, bins=20, color='blue', alpha=0.5, label='Experimental Data')\n",
        "plt.title('Experimental Data Histogram')\n",
        "plt.xlabel('Value')\n",
        "plt.ylabel('Frequency')\n",
        "plt.legend()\n",
        "\n",
        "plt.subplot(1, 2, 2)\n",
        "plt.hist(control_data, bins=20, color='green', alpha=0.5, label='Control Data')\n",
        "plt.title('Control Data Histogram')\n",
        "plt.xlabel('Value')\n",
        "plt.ylabel('Frequency')\n",
        "plt.legend()\n",
        "\n",
        "plt.tight_layout()\n",
        "plt.show()\n",
        "\n",
        "# Q-Q Plots\n",
        "plt.figure(figsize=(10, 5))\n",
        "\n",
        "plt.subplot(1, 2, 1)\n",
        "stats.probplot(experimental_data, dist=\"norm\", plot=plt)\n",
        "plt.title('Experimental Data Q-Q Plot')\n",
        "\n",
        "plt.subplot(1, 2, 2)\n",
        "stats.probplot(control_data, dist=\"norm\", plot=plt)\n",
        "plt.title('Control Data Q-Q Plot')\n",
        "\n",
        "plt.tight_layout()\n",
        "plt.show()\n"
      ],
      "metadata": {
        "id": "89MEzeBEJpzp"
      },
      "execution_count": null,
      "outputs": []
    },
    {
      "cell_type": "code",
      "source": [
        "#Step 5: Results. Answering the research question\n",
        "\n",
        "# Perform the independent t-test\n",
        "alpha = 0.05\n",
        "#t_statistic, p_value = ttest_ind(experimental_data, control_data, alternative='less')  #Left-tailed test\n",
        "#t_statistic, p_value = ttest_ind(experimental_data, control_data, alternative='greater')  #Right-tailed test\n",
        "#t_statistic, p_value = ttest_ind(experimental_data, control_data)   #Two-tailed test\n",
        "\n",
        "# Print the results\n",
        "print(\"Control group mean:\", np.mean(control_data))\n",
        "print(\"Experimental group mean:\", np.mean(experimental_data))\n",
        "print(f\"T-statistic: {t_statistic:.4f}\")\n",
        "print(f\"P-value: {p_value:.4f}\")\n",
        "\n",
        "# Print the results\n",
        "if p_value < alpha:\n",
        "  print(f\"Reject Null Hypothesis, given that  p-value: {p_value:.4f} < {alpha:.4f}\")\n",
        "else:\n",
        "  print(f\"Fail to reject null hypothesis, given that  p-value is not: {p_value:.4f} < {alpha:.4f}\")"
      ],
      "metadata": {
        "id": "9fkoe7RVK_JL"
      },
      "execution_count": null,
      "outputs": []
    },
    {
      "cell_type": "markdown",
      "source": [
        "State if there is enough evidence to reject the null hypothesis here."
      ],
      "metadata": {
        "id": "w7et5pctMEe0"
      }
    },
    {
      "cell_type": "markdown",
      "source": [
        "## Conclusions\n",
        "\n",
        "Summarize the findings here. Discuss any implications of the results in the context of engineering here."
      ],
      "metadata": {
        "id": "etYtBdrxLg83"
      }
    },
    {
      "cell_type": "code",
      "source": [],
      "metadata": {
        "id": "u39EaJkrMCno"
      },
      "execution_count": null,
      "outputs": []
    }
  ]
}